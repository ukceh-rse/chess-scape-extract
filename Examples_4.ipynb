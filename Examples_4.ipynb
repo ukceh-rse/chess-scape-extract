{
 "cells": [
  {
   "cell_type": "markdown",
   "id": "d45b243b-29a6-44d4-8d29-78ed1eb3a7ef",
   "metadata": {},
   "source": [
    "An example for pulling out a point timeseries from a gridded dataset"
   ]
  },
  {
   "cell_type": "code",
   "execution_count": 20,
   "id": "3dd82479-daac-4a45-bd1f-d44d704bf601",
   "metadata": {},
   "outputs": [],
   "source": [
    "import os\n",
    "import s3fs\n",
    "import xarray as xr\n",
    "import pandas as pd\n",
    "import numpy as np\n",
    "import zarr\n",
    "import pyproj\n",
    "import cftime\n",
    "import datetime as dt\n",
    "import calendar\n",
    "from dask.diagnostics import ProgressBar"
   ]
  },
  {
   "cell_type": "markdown",
   "id": "766f4817-f0b5-4d55-81d3-6535ac3d9ac5",
   "metadata": {},
   "source": [
    "Inputs"
   ]
  },
  {
   "cell_type": "code",
   "execution_count": null,
   "id": "ee0df676-1de5-4281-bdd2-973f8040e66c",
   "metadata": {},
   "outputs": [],
   "source": [
    "ensmem = '01' # '01', '04', '06' or '15'\n",
    "lon=-1\n",
    "lat=53\n",
    "year=2023"
   ]
  },
  {
   "cell_type": "markdown",
   "id": "e00c9a95-8e38-4b57-a188-80244aac4b19",
   "metadata": {},
   "source": [
    "Read in data"
   ]
  },
  {
   "cell_type": "code",
   "execution_count": 2,
   "id": "ed2455b5-9c76-4376-a95b-e027c765234c",
   "metadata": {},
   "outputs": [],
   "source": [
    "%%capture\n",
    "# zarr v3 method\n",
    "fs = s3fs.S3FileSystem(anon=True, asynchronous=True, endpoint_url=\"https://chess-scape-o.s3-ext.jc.rl.ac.uk\")\n",
    "\n",
    "zstore_tmax = zarr.storage.FsspecStore(fs, path=\"ens\" + ensmem + \"-year100kmchunk/tmax_\" + ensmem + \"_year100km.zarr\")\n",
    "zstore_tmin = zarr.storage.FsspecStore(fs, path=\"ens\" + ensmem + \"-year100kmchunk/tmin_\" + ensmem + \"_year100km.zarr\")\n",
    "zstore_rsds = zarr.storage.FsspecStore(fs, path=\"ens\" + ensmem + \"-year100kmchunk/rsds_\" + ensmem + \"_year100km.zarr\")\n",
    "zstore_sfcWind = zarr.storage.FsspecStore(fs, path=\"ens\" + ensmem + \"-year100kmchunk/sfcWind_\" + ensmem + \"_year100km.zarr\")\n",
    "zstore_pr = zarr.storage.FsspecStore(fs, path=\"ens\" + ensmem + \"-year100kmchunk/pr_\" + ensmem + \"_year100km.zarr\")\n",
    "zstore_psurf = zarr.storage.FsspecStore(fs, path=\"ens\" + ensmem + \"-year100kmchunk/psurf_\" + ensmem + \"_year100km.zarr\")\n",
    "zstore_huss = zarr.storage.FsspecStore(fs, path=\"ens\" + ensmem + \"-year100kmchunk/huss_\" + ensmem + \"_year100km.zarr\")\n",
    "\n",
    "ds_tmax = xr.open_zarr(zstore_tmax)\n",
    "ds_tmin = xr.open_zarr(zstore_tmin)\n",
    "ds_rsds = xr.open_zarr(zstore_rsds)\n",
    "ds_sfcWind = xr.open_zarr(zstore_sfcWind)\n",
    "ds_pr = xr.open_zarr(zstore_pr)\n",
    "ds_psurf = xr.open_zarr(zstore_psurf)\n",
    "ds_huss = xr.open_zarr(zstore_huss)\n",
    "\n",
    "ds = xr.merge([ds_tmax, ds_tmin, ds_rsds, ds_sfcWind, ds_pr, ds_psurf, ds_huss])\n",
    "ds = ds.set_coords(['lat','lon'])"
   ]
  },
  {
   "cell_type": "markdown",
   "id": "aabd9e5b-7d3a-400e-b61d-2035d4c249d2",
   "metadata": {},
   "source": [
    "Select out nearest point to given lon/lat"
   ]
  },
  {
   "cell_type": "code",
   "execution_count": 4,
   "id": "65ec87e9-b1e9-43b1-8e36-88b66656985d",
   "metadata": {},
   "outputs": [],
   "source": [
    "# Convert lon/lat to OSGB coords\n",
    "proj = pyproj.Transformer.from_crs(4326, 27700, always_xy=True)\n",
    "try: # needed to get around occasional irregular failure of conversion on first attempt\n",
    "    x,y = proj.transform(lon,lat, errcheck=True)\n",
    "except pyproj.exceptions.ProjError:\n",
    "    x,y = proj.transform(lon,lat, errcheck=True)\n"
   ]
  },
  {
   "cell_type": "code",
   "execution_count": 6,
   "id": "0b23b285-1aeb-4327-9fa2-4aa346490585",
   "metadata": {
    "scrolled": true
   },
   "outputs": [
    {
     "name": "stdout",
     "output_type": "stream",
     "text": [
      "[########################################] | 100% Completed | 67.74 s\n"
     ]
    }
   ],
   "source": [
    "with ProgressBar():\n",
    "    dspoint = ds.sel(x=x, y=y, method='nearest').compute()"
   ]
  },
  {
   "cell_type": "code",
   "execution_count": 7,
   "id": "5361bc21-9f69-4cb8-9c3f-f988c6f70bbd",
   "metadata": {},
   "outputs": [],
   "source": [
    "dspoint_year = dspoint.sel(time=str(year))"
   ]
  },
  {
   "cell_type": "markdown",
   "id": "7df7b010-f260-4e24-bc3a-ee1cea582486",
   "metadata": {},
   "source": [
    "Interpolate onto Gregorian calendar from 360day calendar of CHESS-SCAPE"
   ]
  },
  {
   "cell_type": "code",
   "execution_count": 8,
   "id": "6ca32ab7-1052-469c-bbeb-5ffef81f09c5",
   "metadata": {},
   "outputs": [],
   "source": [
    "dspoint_year_greg = dspoint_year.convert_calendar('gregorian', align_on='date', missing=np.nan)\n",
    "dspoint_year_greg = dspoint_year_greg.interpolate_na(dim='time', fill_value=\"extrapolate\")"
   ]
  },
  {
   "cell_type": "markdown",
   "id": "b1b7b5e0-1884-4456-be78-45fc5297a360",
   "metadata": {},
   "source": [
    "Convert units & calc vapour pressure"
   ]
  },
  {
   "cell_type": "code",
   "execution_count": 12,
   "id": "a3c95ec8-1686-4afb-bf2d-51f07bf6682b",
   "metadata": {
    "scrolled": true
   },
   "outputs": [],
   "source": [
    "# W/m^2 --> J/m^2/s --> MJ/m^2/day\n",
    "rsds = dspoint_year_greg['rsds'].values/1000000*86400\n",
    "\n",
    "# K --> degC\n",
    "tmax = dspoint_year_greg['tasmax'].values - 273.15\n",
    "tmin = dspoint_year_greg['tasmin'].values - 273.15\n",
    "\n",
    "# /1000 to get kPa from Pa. # Formula from bottom of webpage https://cran.r-project.org/web/packages/humidity/vignettes/humidity-measures.html\n",
    "vp = (dspoint_year_greg['huss'].values * (dspoint_year_greg['psurf'].values/1000))/(0.622 + (0.378 * dspoint_year_greg['huss'].values))\n",
    "\n",
    "# already in m/s\n",
    "sfcWind = dspoint_year_greg['sfcWind'].values\n",
    "\n",
    "# kg/m^2/s --> mm/day\n",
    "pr = dspoint_year_greg['pr'].values * 86400"
   ]
  },
  {
   "cell_type": "markdown",
   "id": "da0ce43d-9931-419b-8f29-1852dd6271c2",
   "metadata": {},
   "source": [
    "- read in CO2 data\n",
    "  "
   ]
  },
  {
   "cell_type": "code",
   "execution_count": 27,
   "id": "d68d11ab-b17c-4101-9f47-4979ce346ec2",
   "metadata": {},
   "outputs": [],
   "source": [
    "CO2data = pd.read_csv('s3://chess-scape-co2files/CHESS-SCAPE_RCP85_' + enemem + '.csv', storage_options={'endpoint_url': \"https://fdri-o.s3-ext.jc.rl.ac.uk\", 'anon': True})\n",
    "CO2data = CO2data.set_index(\"YEAR\")"
   ]
  },
  {
   "cell_type": "markdown",
   "id": "eb38eaa0-a4dc-4466-8d9b-1f1af3b0e64b",
   "metadata": {},
   "source": [
    "- convert to pandas"
   ]
  },
  {
   "cell_type": "code",
   "execution_count": 63,
   "id": "25cb018a-0985-4ed3-862d-da76539d2621",
   "metadata": {},
   "outputs": [],
   "source": [
    "dfpoint_year_greg = pd.DataFrame(index = pd.Index(np.arange(1,len(dspoint_year_greg.time)+1), name='DOY'),\n",
    "                    columns = ['RAD', 'MINTMP', 'MAXTMP', 'VP', 'WIND', 'RAIN', 'CO2'])"
   ]
  },
  {
   "cell_type": "code",
   "execution_count": 64,
   "id": "5b6a0db2-a78a-4b52-b06c-1f142c9a3026",
   "metadata": {},
   "outputs": [],
   "source": [
    "dfpoint_year_greg['RAD'] = rsds\n",
    "dfpoint_year_greg['MINTMP'] = tmin\n",
    "dfpoint_year_greg['MAXTMP'] = tmax\n",
    "dfpoint_year_greg['VP'] = vp\n",
    "dfpoint_year_greg['WIND'] = sfcWind\n",
    "dfpoint_year_greg['RAIN'] = pr\n",
    "dfpoint_year_greg['CO2'] = CO2data.loc[year].values[0]"
   ]
  },
  {
   "cell_type": "markdown",
   "id": "e7f3a503-4e8f-4ec8-a068-32b42e0c70b8",
   "metadata": {},
   "source": [
    "- write out to file"
   ]
  },
  {
   "cell_type": "code",
   "execution_count": 66,
   "id": "3c6716f5-621d-45d7-9e3e-f3ad67101736",
   "metadata": {},
   "outputs": [],
   "source": [
    "dfpoint_year_greg.to_csv('chess-scape_' + str(lon) + '_' + str(lat) + '_' + ensmem + '_' + str(year) + '.csv')"
   ]
  },
  {
   "cell_type": "markdown",
   "id": "e0724232-6a92-440d-aeb6-a3594c6ec6b4",
   "metadata": {},
   "source": [
    "- make script"
   ]
  },
  {
   "cell_type": "markdown",
   "id": "59a449fe-7485-433e-a1ac-49d6e5be38bf",
   "metadata": {},
   "source": [
    "Best idea I think is to have it as a python package that folk can install, along with all the requirements in one go. "
   ]
  },
  {
   "cell_type": "code",
   "execution_count": null,
   "id": "6a912069-ca70-4b19-9e66-eef6140ef49d",
   "metadata": {},
   "outputs": [],
   "source": []
  }
 ],
 "metadata": {
  "kernelspec": {
   "display_name": "zarrv3",
   "language": "python",
   "name": "zarrv3"
  },
  "language_info": {
   "codemirror_mode": {
    "name": "ipython",
    "version": 3
   },
   "file_extension": ".py",
   "mimetype": "text/x-python",
   "name": "python",
   "nbconvert_exporter": "python",
   "pygments_lexer": "ipython3",
   "version": "3.13.3"
  }
 },
 "nbformat": 4,
 "nbformat_minor": 5
}
